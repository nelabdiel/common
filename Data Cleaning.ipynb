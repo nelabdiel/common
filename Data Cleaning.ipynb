{
 "cells": [
  {
   "cell_type": "code",
   "execution_count": 1,
   "metadata": {
    "collapsed": false
   },
   "outputs": [
    {
     "data": {
      "text/plain": [
       "'\\ndata preprocessing / cleaning\\n- working with text data / regex\\n- datetime\\n- categorical data\\n- imputation\\n- maybe even merging dataframes\\n'"
      ]
     },
     "execution_count": 1,
     "metadata": {},
     "output_type": "execute_result"
    }
   ],
   "source": [
    "import pandas as pd\n",
    "import numpy as np\n",
    "import simplejson\n",
    "from datetime import datetime, timedelta\n",
    "\n",
    "'''\n",
    "data preprocessing / cleaning\n",
    "- working with text data / regex\n",
    "- datetime\n",
    "- categorical data\n",
    "- imputation\n",
    "- maybe even merging dataframes\n",
    "'''"
   ]
  },
  {
   "cell_type": "markdown",
   "metadata": {},
   "source": [
    "# Exercise 1: Create a new column that contains only the zipcode."
   ]
  },
  {
   "cell_type": "code",
   "execution_count": 2,
   "metadata": {
    "collapsed": false
   },
   "outputs": [
    {
     "data": {
      "text/html": [
       "<div>\n",
       "<table border=\"1\" class=\"dataframe\">\n",
       "  <thead>\n",
       "    <tr style=\"text-align: right;\">\n",
       "      <th></th>\n",
       "      <th>attributes</th>\n",
       "      <th>business_id</th>\n",
       "      <th>categories</th>\n",
       "      <th>city</th>\n",
       "      <th>full_address</th>\n",
       "      <th>hours</th>\n",
       "      <th>latitude</th>\n",
       "      <th>longitude</th>\n",
       "      <th>name</th>\n",
       "      <th>neighborhoods</th>\n",
       "      <th>open</th>\n",
       "      <th>review_count</th>\n",
       "      <th>stars</th>\n",
       "      <th>state</th>\n",
       "      <th>type</th>\n",
       "    </tr>\n",
       "  </thead>\n",
       "  <tbody>\n",
       "    <tr>\n",
       "      <th>0</th>\n",
       "      <td>{'Accepts Credit Cards': True, 'Attire': 'casu...</td>\n",
       "      <td>5UmKMjUEUNdYWqANhGckJw</td>\n",
       "      <td>[Fast Food, Restaurants]</td>\n",
       "      <td>Dravosburg</td>\n",
       "      <td>4734 Lebanon Church Rd\\nDravosburg, PA 15034</td>\n",
       "      <td>{'Tuesday': {'close': '21:00', 'open': '11:00'...</td>\n",
       "      <td>40.354327</td>\n",
       "      <td>-79.900706</td>\n",
       "      <td>Mr Hoagie</td>\n",
       "      <td>[]</td>\n",
       "      <td>True</td>\n",
       "      <td>7</td>\n",
       "      <td>3.5</td>\n",
       "      <td>PA</td>\n",
       "      <td>business</td>\n",
       "    </tr>\n",
       "    <tr>\n",
       "      <th>1</th>\n",
       "      <td>{'Price Range': 1, 'Accepts Credit Cards': Tru...</td>\n",
       "      <td>UsFtqoBl7naz8AVUBZMjQQ</td>\n",
       "      <td>[Nightlife]</td>\n",
       "      <td>Dravosburg</td>\n",
       "      <td>202 McClure St\\nDravosburg, PA 15034</td>\n",
       "      <td>{}</td>\n",
       "      <td>40.350553</td>\n",
       "      <td>-79.886814</td>\n",
       "      <td>Clancy's Pub</td>\n",
       "      <td>[]</td>\n",
       "      <td>True</td>\n",
       "      <td>5</td>\n",
       "      <td>3.0</td>\n",
       "      <td>PA</td>\n",
       "      <td>business</td>\n",
       "    </tr>\n",
       "    <tr>\n",
       "      <th>2</th>\n",
       "      <td>{'Good for Kids': True}</td>\n",
       "      <td>cE27W9VPgO88Qxe4ol6y_g</td>\n",
       "      <td>[Active Life, Mini Golf, Golf]</td>\n",
       "      <td>Bethel Park</td>\n",
       "      <td>1530 Hamilton Rd\\nBethel Park, PA 15234</td>\n",
       "      <td>{}</td>\n",
       "      <td>40.354115</td>\n",
       "      <td>-80.014660</td>\n",
       "      <td>Cool Springs Golf Center</td>\n",
       "      <td>[]</td>\n",
       "      <td>False</td>\n",
       "      <td>5</td>\n",
       "      <td>2.5</td>\n",
       "      <td>PA</td>\n",
       "      <td>business</td>\n",
       "    </tr>\n",
       "  </tbody>\n",
       "</table>\n",
       "</div>"
      ],
      "text/plain": [
       "                                          attributes             business_id  \\\n",
       "0  {'Accepts Credit Cards': True, 'Attire': 'casu...  5UmKMjUEUNdYWqANhGckJw   \n",
       "1  {'Price Range': 1, 'Accepts Credit Cards': Tru...  UsFtqoBl7naz8AVUBZMjQQ   \n",
       "2                            {'Good for Kids': True}  cE27W9VPgO88Qxe4ol6y_g   \n",
       "\n",
       "                       categories         city  \\\n",
       "0        [Fast Food, Restaurants]   Dravosburg   \n",
       "1                     [Nightlife]   Dravosburg   \n",
       "2  [Active Life, Mini Golf, Golf]  Bethel Park   \n",
       "\n",
       "                                   full_address  \\\n",
       "0  4734 Lebanon Church Rd\\nDravosburg, PA 15034   \n",
       "1          202 McClure St\\nDravosburg, PA 15034   \n",
       "2       1530 Hamilton Rd\\nBethel Park, PA 15234   \n",
       "\n",
       "                                               hours   latitude  longitude  \\\n",
       "0  {'Tuesday': {'close': '21:00', 'open': '11:00'...  40.354327 -79.900706   \n",
       "1                                                 {}  40.350553 -79.886814   \n",
       "2                                                 {}  40.354115 -80.014660   \n",
       "\n",
       "                       name neighborhoods   open  review_count  stars state  \\\n",
       "0                 Mr Hoagie            []   True             7    3.5    PA   \n",
       "1              Clancy's Pub            []   True             5    3.0    PA   \n",
       "2  Cool Springs Golf Center            []  False             5    2.5    PA   \n",
       "\n",
       "       type  \n",
       "0  business  \n",
       "1  business  \n",
       "2  business  "
      ]
     },
     "execution_count": 2,
     "metadata": {},
     "output_type": "execute_result"
    }
   ],
   "source": [
    "# Lets open the dataset\n",
    "dataB = []\n",
    "with open('yelp_dataset_challenge_academic_dataset/yelp_academic_dataset_business.json') as f:\n",
    "    for line in f:\n",
    "        dataB.append(simplejson.loads(line))\n",
    "dfB = pd.DataFrame(dataB[:5000])\n",
    "dfB.head(3)"
   ]
  },
  {
   "cell_type": "code",
   "execution_count": null,
   "metadata": {
    "collapsed": true
   },
   "outputs": [],
   "source": []
  },
  {
   "cell_type": "code",
   "execution_count": 3,
   "metadata": {
    "collapsed": false
   },
   "outputs": [
    {
     "data": {
      "text/plain": [
       "'15034'"
      ]
     },
     "execution_count": 3,
     "metadata": {},
     "output_type": "execute_result"
    }
   ],
   "source": [
    "# Lets see if we can pull out the zipcode for one entry.\n",
    "dfB.full_address[0].split(' ')[-1]"
   ]
  },
  {
   "cell_type": "markdown",
   "metadata": {},
   "source": [
    "## Lets now build a function that extracts the zipcode and adds it to a new column"
   ]
  },
  {
   "cell_type": "code",
   "execution_count": 4,
   "metadata": {
    "collapsed": true
   },
   "outputs": [],
   "source": [
    "dfB['zipcode'] = dfB.apply(lambda x: x['full_address'].split(' ')[-1], 1)"
   ]
  },
  {
   "cell_type": "code",
   "execution_count": 5,
   "metadata": {
    "collapsed": false
   },
   "outputs": [
    {
     "data": {
      "text/html": [
       "<div>\n",
       "<table border=\"1\" class=\"dataframe\">\n",
       "  <thead>\n",
       "    <tr style=\"text-align: right;\">\n",
       "      <th></th>\n",
       "      <th>attributes</th>\n",
       "      <th>business_id</th>\n",
       "      <th>categories</th>\n",
       "      <th>city</th>\n",
       "      <th>full_address</th>\n",
       "      <th>hours</th>\n",
       "      <th>latitude</th>\n",
       "      <th>longitude</th>\n",
       "      <th>name</th>\n",
       "      <th>neighborhoods</th>\n",
       "      <th>open</th>\n",
       "      <th>review_count</th>\n",
       "      <th>stars</th>\n",
       "      <th>state</th>\n",
       "      <th>type</th>\n",
       "      <th>zipcode</th>\n",
       "    </tr>\n",
       "  </thead>\n",
       "  <tbody>\n",
       "    <tr>\n",
       "      <th>0</th>\n",
       "      <td>{'Accepts Credit Cards': True, 'Attire': 'casu...</td>\n",
       "      <td>5UmKMjUEUNdYWqANhGckJw</td>\n",
       "      <td>[Fast Food, Restaurants]</td>\n",
       "      <td>Dravosburg</td>\n",
       "      <td>4734 Lebanon Church Rd\\nDravosburg, PA 15034</td>\n",
       "      <td>{'Tuesday': {'close': '21:00', 'open': '11:00'...</td>\n",
       "      <td>40.354327</td>\n",
       "      <td>-79.900706</td>\n",
       "      <td>Mr Hoagie</td>\n",
       "      <td>[]</td>\n",
       "      <td>True</td>\n",
       "      <td>7</td>\n",
       "      <td>3.5</td>\n",
       "      <td>PA</td>\n",
       "      <td>business</td>\n",
       "      <td>15034</td>\n",
       "    </tr>\n",
       "    <tr>\n",
       "      <th>1</th>\n",
       "      <td>{'Price Range': 1, 'Accepts Credit Cards': Tru...</td>\n",
       "      <td>UsFtqoBl7naz8AVUBZMjQQ</td>\n",
       "      <td>[Nightlife]</td>\n",
       "      <td>Dravosburg</td>\n",
       "      <td>202 McClure St\\nDravosburg, PA 15034</td>\n",
       "      <td>{}</td>\n",
       "      <td>40.350553</td>\n",
       "      <td>-79.886814</td>\n",
       "      <td>Clancy's Pub</td>\n",
       "      <td>[]</td>\n",
       "      <td>True</td>\n",
       "      <td>5</td>\n",
       "      <td>3.0</td>\n",
       "      <td>PA</td>\n",
       "      <td>business</td>\n",
       "      <td>15034</td>\n",
       "    </tr>\n",
       "    <tr>\n",
       "      <th>2</th>\n",
       "      <td>{'Good for Kids': True}</td>\n",
       "      <td>cE27W9VPgO88Qxe4ol6y_g</td>\n",
       "      <td>[Active Life, Mini Golf, Golf]</td>\n",
       "      <td>Bethel Park</td>\n",
       "      <td>1530 Hamilton Rd\\nBethel Park, PA 15234</td>\n",
       "      <td>{}</td>\n",
       "      <td>40.354115</td>\n",
       "      <td>-80.014660</td>\n",
       "      <td>Cool Springs Golf Center</td>\n",
       "      <td>[]</td>\n",
       "      <td>False</td>\n",
       "      <td>5</td>\n",
       "      <td>2.5</td>\n",
       "      <td>PA</td>\n",
       "      <td>business</td>\n",
       "      <td>15234</td>\n",
       "    </tr>\n",
       "  </tbody>\n",
       "</table>\n",
       "</div>"
      ],
      "text/plain": [
       "                                          attributes             business_id  \\\n",
       "0  {'Accepts Credit Cards': True, 'Attire': 'casu...  5UmKMjUEUNdYWqANhGckJw   \n",
       "1  {'Price Range': 1, 'Accepts Credit Cards': Tru...  UsFtqoBl7naz8AVUBZMjQQ   \n",
       "2                            {'Good for Kids': True}  cE27W9VPgO88Qxe4ol6y_g   \n",
       "\n",
       "                       categories         city  \\\n",
       "0        [Fast Food, Restaurants]   Dravosburg   \n",
       "1                     [Nightlife]   Dravosburg   \n",
       "2  [Active Life, Mini Golf, Golf]  Bethel Park   \n",
       "\n",
       "                                   full_address  \\\n",
       "0  4734 Lebanon Church Rd\\nDravosburg, PA 15034   \n",
       "1          202 McClure St\\nDravosburg, PA 15034   \n",
       "2       1530 Hamilton Rd\\nBethel Park, PA 15234   \n",
       "\n",
       "                                               hours   latitude  longitude  \\\n",
       "0  {'Tuesday': {'close': '21:00', 'open': '11:00'...  40.354327 -79.900706   \n",
       "1                                                 {}  40.350553 -79.886814   \n",
       "2                                                 {}  40.354115 -80.014660   \n",
       "\n",
       "                       name neighborhoods   open  review_count  stars state  \\\n",
       "0                 Mr Hoagie            []   True             7    3.5    PA   \n",
       "1              Clancy's Pub            []   True             5    3.0    PA   \n",
       "2  Cool Springs Golf Center            []  False             5    2.5    PA   \n",
       "\n",
       "       type zipcode  \n",
       "0  business   15034  \n",
       "1  business   15034  \n",
       "2  business   15234  "
      ]
     },
     "execution_count": 5,
     "metadata": {},
     "output_type": "execute_result"
    }
   ],
   "source": [
    "dfB.head(3)"
   ]
  },
  {
   "cell_type": "code",
   "execution_count": null,
   "metadata": {
    "collapsed": true
   },
   "outputs": [],
   "source": []
  },
  {
   "cell_type": "markdown",
   "metadata": {},
   "source": [
    "# Exercise 2: The table contains a column called 'categories' and each entry in this column is populated by a list. We are interested in those businesses that restaurants. Create a new column 'Restaurant_type' that contains a description of the restaurant based on the other elements of 'categories. \n",
    "## That is, if we have '[Sushi Bars, Japanese, Restaurants]' in categories the 'Restaurant_type will be '{'SushiBars': 1, 'Japanese': 1, 'Mexican': 0, ...}'"
   ]
  },
  {
   "cell_type": "code",
   "execution_count": 6,
   "metadata": {
    "collapsed": false
   },
   "outputs": [
    {
     "data": {
      "text/plain": [
       "0                             [Fast Food, Restaurants]\n",
       "1                                          [Nightlife]\n",
       "2                       [Active Life, Mini Golf, Golf]\n",
       "3    [Bars, American (New), Nightlife, Lounges, Res...\n",
       "4                                  [Active Life, Golf]\n",
       "Name: categories, dtype: object"
      ]
     },
     "execution_count": 6,
     "metadata": {},
     "output_type": "execute_result"
    }
   ],
   "source": [
    "dfB.categories[:5]"
   ]
  },
  {
   "cell_type": "code",
   "execution_count": null,
   "metadata": {
    "collapsed": true
   },
   "outputs": [],
   "source": []
  },
  {
   "cell_type": "markdown",
   "metadata": {},
   "source": [
    "### Lets get all the different restaurant descriptions."
   ]
  },
  {
   "cell_type": "code",
   "execution_count": 7,
   "metadata": {
    "collapsed": false
   },
   "outputs": [],
   "source": [
    "RestCat = {}\n",
    "for index, row in dfB.iterrows():\n",
    "    if 'Restaurants' in row['categories']:\n",
    "        for el in row['categories']:\n",
    "            if el != 'Restaurants':\n",
    "                RestCat[el] = 0"
   ]
  },
  {
   "cell_type": "code",
   "execution_count": 8,
   "metadata": {
    "collapsed": false
   },
   "outputs": [
    {
     "data": {
      "text/plain": [
       "['Bed & Breakfast', 'Seafood', 'Pool Halls', 'Ramen', 'Lebanese']"
      ]
     },
     "execution_count": 8,
     "metadata": {},
     "output_type": "execute_result"
    }
   ],
   "source": [
    "list(RestCat)[:5]"
   ]
  },
  {
   "cell_type": "code",
   "execution_count": 9,
   "metadata": {
    "collapsed": true
   },
   "outputs": [],
   "source": [
    "# This function will get the categories and if it is not a restaurant then write 'remove'.\n",
    "def Cat(row):\n",
    "    d = dict(RestCat)\n",
    "    if 'Restaurants' in row['categories']:\n",
    "        for el in row['categories']:\n",
    "            if el in d.keys():\n",
    "                d[el] = 1\n",
    "            else:\n",
    "                d[el] = 0\n",
    "    else:\n",
    "        d = 'Remove'\n",
    "    return d"
   ]
  },
  {
   "cell_type": "code",
   "execution_count": 10,
   "metadata": {
    "collapsed": false
   },
   "outputs": [],
   "source": [
    "dfB['Restaurant_type'] = dfB.apply(lambda x: Cat(x), 1)"
   ]
  },
  {
   "cell_type": "code",
   "execution_count": 12,
   "metadata": {
    "collapsed": false
   },
   "outputs": [
    {
     "data": {
      "text/html": [
       "<div>\n",
       "<table border=\"1\" class=\"dataframe\">\n",
       "  <thead>\n",
       "    <tr style=\"text-align: right;\">\n",
       "      <th></th>\n",
       "      <th>attributes</th>\n",
       "      <th>business_id</th>\n",
       "      <th>categories</th>\n",
       "      <th>city</th>\n",
       "      <th>full_address</th>\n",
       "      <th>hours</th>\n",
       "      <th>latitude</th>\n",
       "      <th>longitude</th>\n",
       "      <th>name</th>\n",
       "      <th>neighborhoods</th>\n",
       "      <th>open</th>\n",
       "      <th>review_count</th>\n",
       "      <th>stars</th>\n",
       "      <th>state</th>\n",
       "      <th>type</th>\n",
       "      <th>zipcode</th>\n",
       "      <th>Restaurant_type</th>\n",
       "    </tr>\n",
       "  </thead>\n",
       "  <tbody>\n",
       "    <tr>\n",
       "      <th>0</th>\n",
       "      <td>{'Accepts Credit Cards': True, 'Attire': 'casu...</td>\n",
       "      <td>5UmKMjUEUNdYWqANhGckJw</td>\n",
       "      <td>[Fast Food, Restaurants]</td>\n",
       "      <td>Dravosburg</td>\n",
       "      <td>4734 Lebanon Church Rd\\nDravosburg, PA 15034</td>\n",
       "      <td>{'Tuesday': {'close': '21:00', 'open': '11:00'...</td>\n",
       "      <td>40.354327</td>\n",
       "      <td>-79.900706</td>\n",
       "      <td>Mr Hoagie</td>\n",
       "      <td>[]</td>\n",
       "      <td>True</td>\n",
       "      <td>7</td>\n",
       "      <td>3.5</td>\n",
       "      <td>PA</td>\n",
       "      <td>business</td>\n",
       "      <td>15034</td>\n",
       "      <td>{'Bed &amp; Breakfast': 0, 'Seafood': 0, 'Pool Hal...</td>\n",
       "    </tr>\n",
       "    <tr>\n",
       "      <th>1</th>\n",
       "      <td>{'Price Range': 1, 'Accepts Credit Cards': Tru...</td>\n",
       "      <td>UsFtqoBl7naz8AVUBZMjQQ</td>\n",
       "      <td>[Nightlife]</td>\n",
       "      <td>Dravosburg</td>\n",
       "      <td>202 McClure St\\nDravosburg, PA 15034</td>\n",
       "      <td>{}</td>\n",
       "      <td>40.350553</td>\n",
       "      <td>-79.886814</td>\n",
       "      <td>Clancy's Pub</td>\n",
       "      <td>[]</td>\n",
       "      <td>True</td>\n",
       "      <td>5</td>\n",
       "      <td>3.0</td>\n",
       "      <td>PA</td>\n",
       "      <td>business</td>\n",
       "      <td>15034</td>\n",
       "      <td>Remove</td>\n",
       "    </tr>\n",
       "    <tr>\n",
       "      <th>2</th>\n",
       "      <td>{'Good for Kids': True}</td>\n",
       "      <td>cE27W9VPgO88Qxe4ol6y_g</td>\n",
       "      <td>[Active Life, Mini Golf, Golf]</td>\n",
       "      <td>Bethel Park</td>\n",
       "      <td>1530 Hamilton Rd\\nBethel Park, PA 15234</td>\n",
       "      <td>{}</td>\n",
       "      <td>40.354115</td>\n",
       "      <td>-80.014660</td>\n",
       "      <td>Cool Springs Golf Center</td>\n",
       "      <td>[]</td>\n",
       "      <td>False</td>\n",
       "      <td>5</td>\n",
       "      <td>2.5</td>\n",
       "      <td>PA</td>\n",
       "      <td>business</td>\n",
       "      <td>15234</td>\n",
       "      <td>Remove</td>\n",
       "    </tr>\n",
       "  </tbody>\n",
       "</table>\n",
       "</div>"
      ],
      "text/plain": [
       "                                          attributes             business_id  \\\n",
       "0  {'Accepts Credit Cards': True, 'Attire': 'casu...  5UmKMjUEUNdYWqANhGckJw   \n",
       "1  {'Price Range': 1, 'Accepts Credit Cards': Tru...  UsFtqoBl7naz8AVUBZMjQQ   \n",
       "2                            {'Good for Kids': True}  cE27W9VPgO88Qxe4ol6y_g   \n",
       "\n",
       "                       categories         city  \\\n",
       "0        [Fast Food, Restaurants]   Dravosburg   \n",
       "1                     [Nightlife]   Dravosburg   \n",
       "2  [Active Life, Mini Golf, Golf]  Bethel Park   \n",
       "\n",
       "                                   full_address  \\\n",
       "0  4734 Lebanon Church Rd\\nDravosburg, PA 15034   \n",
       "1          202 McClure St\\nDravosburg, PA 15034   \n",
       "2       1530 Hamilton Rd\\nBethel Park, PA 15234   \n",
       "\n",
       "                                               hours   latitude  longitude  \\\n",
       "0  {'Tuesday': {'close': '21:00', 'open': '11:00'...  40.354327 -79.900706   \n",
       "1                                                 {}  40.350553 -79.886814   \n",
       "2                                                 {}  40.354115 -80.014660   \n",
       "\n",
       "                       name neighborhoods   open  review_count  stars state  \\\n",
       "0                 Mr Hoagie            []   True             7    3.5    PA   \n",
       "1              Clancy's Pub            []   True             5    3.0    PA   \n",
       "2  Cool Springs Golf Center            []  False             5    2.5    PA   \n",
       "\n",
       "       type zipcode                                    Restaurant_type  \n",
       "0  business   15034  {'Bed & Breakfast': 0, 'Seafood': 0, 'Pool Hal...  \n",
       "1  business   15034                                             Remove  \n",
       "2  business   15234                                             Remove  "
      ]
     },
     "execution_count": 12,
     "metadata": {},
     "output_type": "execute_result"
    }
   ],
   "source": [
    "dfB.head(3)"
   ]
  },
  {
   "cell_type": "code",
   "execution_count": null,
   "metadata": {
    "collapsed": true
   },
   "outputs": [],
   "source": []
  },
  {
   "cell_type": "markdown",
   "metadata": {},
   "source": [
    "# Exercise 3: Lets clean the 'attributes' column. The entries in on this column are dictionaries. We need to do two things: \n",
    "## 1) Turn all the True or False in the dictionary to 1s and 0s.\n",
    "## 2) There are some entries within dictionaries that are dictionaries themselves, lets turn the whole entry into just one dictionary, for example if we have \n",
    "### '{'Accepts Credit Cards': True, 'Alcohol': 'none','Ambience': {'casual': False,'classy': False}}' \n",
    "### then turn it into\n",
    "### '{'Accepts Credit Cards':1, 'Alcohol': 0, 'Ambience_casual': 0, 'Ambience_classy': 0}'. \n",
    "### There might be other entries like {'Price Range': 1} where the values are numerical so we might want to change that into {'Price_Range_1': 1}."
   ]
  },
  {
   "cell_type": "code",
   "execution_count": 13,
   "metadata": {
    "collapsed": true
   },
   "outputs": [],
   "source": [
    "# This function will do a couple of things\n",
    "def Flat(row):\n",
    "    d = row['attributes']\n",
    "    d1 = {}\n",
    "    for el in d.keys():\n",
    "        # If the entry is boolean turn it into a 1 or 0\n",
    "        if type(d[el]) == bool:\n",
    "            d1[el] = int(d[el])\n",
    "            \n",
    "        # If the entry is a string then join them together    \n",
    "        elif type(d[el]) == str:\n",
    "            label = '{}_{}'.format(el, d[el])\n",
    "            d1[label] = 1\n",
    "\n",
    "        # If it is an integer join them together\n",
    "        elif type(d[el]) == int:\n",
    "            label = '{}_{}'.format(el, d[el])\n",
    "            d1[label] = 1\n",
    "            \n",
    "        # If it is a dictionary go down one level     \n",
    "        elif type(d[el]) == dict:\n",
    "            for elem in d[el].keys():\n",
    "                label = '{}_{}'.format(el, elem)\n",
    "                d1[label] = int(d[el][elem])\n",
    "                \n",
    "        # Lets make a print 'else' case to see if we are missing any cases.\n",
    "        else:        \n",
    "            print(el, d[el])        \n",
    "    return d1            "
   ]
  },
  {
   "cell_type": "code",
   "execution_count": null,
   "metadata": {
    "collapsed": true
   },
   "outputs": [],
   "source": []
  },
  {
   "cell_type": "markdown",
   "metadata": {},
   "source": [
    "# Exercise 4: Create a new column for every day of the week and fill it with the amount of hours the business is open that day."
   ]
  },
  {
   "cell_type": "code",
   "execution_count": 14,
   "metadata": {
    "collapsed": false
   },
   "outputs": [
    {
     "data": {
      "text/plain": [
       "{'Friday': {'close': '21:00', 'open': '11:00'},\n",
       " 'Monday': {'close': '21:00', 'open': '11:00'},\n",
       " 'Thursday': {'close': '21:00', 'open': '11:00'},\n",
       " 'Tuesday': {'close': '21:00', 'open': '11:00'},\n",
       " 'Wednesday': {'close': '21:00', 'open': '11:00'}}"
      ]
     },
     "execution_count": 14,
     "metadata": {},
     "output_type": "execute_result"
    }
   ],
   "source": [
    "dfB.hours[0]"
   ]
  },
  {
   "cell_type": "code",
   "execution_count": 15,
   "metadata": {
    "collapsed": true
   },
   "outputs": [],
   "source": [
    "days = ['Sunday', 'Monday', 'Tuesday', \n",
    "        'Wednesday', 'Thursday', 'Friday', \n",
    "        'Saturday']"
   ]
  },
  {
   "cell_type": "code",
   "execution_count": 16,
   "metadata": {
    "collapsed": false
   },
   "outputs": [],
   "source": [
    "# This function will parsed the time\n",
    "FMT = '%H:%M'\n",
    "Oneday = datetime.strptime('23:00', FMT)\n",
    "def Time(row, date):\n",
    "    try:\n",
    "        closing = datetime.strptime(row['hours'][date]['close'], FMT)\n",
    "        opening = datetime.strptime(row['hours'][date]['open'], FMT)\n",
    "        Oneday = datetime.strptime('23:59', FMT)\n",
    "        time = closing - opening\n",
    "        if time < timedelta(days=0):\n",
    "            time = Oneday(time + timedelta(days=time.days()))\n",
    "        \n",
    "    except:\n",
    "        time = datetime.strptime('00:00', FMT) - datetime.strptime('00:00', FMT)\n",
    "    return time"
   ]
  },
  {
   "cell_type": "code",
   "execution_count": 17,
   "metadata": {
    "collapsed": false
   },
   "outputs": [],
   "source": [
    "# Create a table for each day\n",
    "for day in days:\n",
    "    dfB[day] = dfB.apply(lambda x: Time(x, day), 1)"
   ]
  },
  {
   "cell_type": "code",
   "execution_count": 18,
   "metadata": {
    "collapsed": false
   },
   "outputs": [
    {
     "data": {
      "text/html": [
       "<div>\n",
       "<table border=\"1\" class=\"dataframe\">\n",
       "  <thead>\n",
       "    <tr style=\"text-align: right;\">\n",
       "      <th></th>\n",
       "      <th>attributes</th>\n",
       "      <th>business_id</th>\n",
       "      <th>categories</th>\n",
       "      <th>city</th>\n",
       "      <th>full_address</th>\n",
       "      <th>hours</th>\n",
       "      <th>latitude</th>\n",
       "      <th>longitude</th>\n",
       "      <th>name</th>\n",
       "      <th>neighborhoods</th>\n",
       "      <th>...</th>\n",
       "      <th>type</th>\n",
       "      <th>zipcode</th>\n",
       "      <th>Restaurant_type</th>\n",
       "      <th>Sunday</th>\n",
       "      <th>Monday</th>\n",
       "      <th>Tuesday</th>\n",
       "      <th>Wednesday</th>\n",
       "      <th>Thursday</th>\n",
       "      <th>Friday</th>\n",
       "      <th>Saturday</th>\n",
       "    </tr>\n",
       "  </thead>\n",
       "  <tbody>\n",
       "    <tr>\n",
       "      <th>0</th>\n",
       "      <td>{'Accepts Credit Cards': True, 'Attire': 'casu...</td>\n",
       "      <td>5UmKMjUEUNdYWqANhGckJw</td>\n",
       "      <td>[Fast Food, Restaurants]</td>\n",
       "      <td>Dravosburg</td>\n",
       "      <td>4734 Lebanon Church Rd\\nDravosburg, PA 15034</td>\n",
       "      <td>{'Tuesday': {'close': '21:00', 'open': '11:00'...</td>\n",
       "      <td>40.354327</td>\n",
       "      <td>-79.900706</td>\n",
       "      <td>Mr Hoagie</td>\n",
       "      <td>[]</td>\n",
       "      <td>...</td>\n",
       "      <td>business</td>\n",
       "      <td>15034</td>\n",
       "      <td>{'Bed &amp; Breakfast': 0, 'Seafood': 0, 'Pool Hal...</td>\n",
       "      <td>0 days</td>\n",
       "      <td>10:00:00</td>\n",
       "      <td>10:00:00</td>\n",
       "      <td>10:00:00</td>\n",
       "      <td>10:00:00</td>\n",
       "      <td>10:00:00</td>\n",
       "      <td>0 days</td>\n",
       "    </tr>\n",
       "    <tr>\n",
       "      <th>1</th>\n",
       "      <td>{'Price Range': 1, 'Accepts Credit Cards': Tru...</td>\n",
       "      <td>UsFtqoBl7naz8AVUBZMjQQ</td>\n",
       "      <td>[Nightlife]</td>\n",
       "      <td>Dravosburg</td>\n",
       "      <td>202 McClure St\\nDravosburg, PA 15034</td>\n",
       "      <td>{}</td>\n",
       "      <td>40.350553</td>\n",
       "      <td>-79.886814</td>\n",
       "      <td>Clancy's Pub</td>\n",
       "      <td>[]</td>\n",
       "      <td>...</td>\n",
       "      <td>business</td>\n",
       "      <td>15034</td>\n",
       "      <td>Remove</td>\n",
       "      <td>0 days</td>\n",
       "      <td>00:00:00</td>\n",
       "      <td>00:00:00</td>\n",
       "      <td>00:00:00</td>\n",
       "      <td>00:00:00</td>\n",
       "      <td>00:00:00</td>\n",
       "      <td>0 days</td>\n",
       "    </tr>\n",
       "    <tr>\n",
       "      <th>2</th>\n",
       "      <td>{'Good for Kids': True}</td>\n",
       "      <td>cE27W9VPgO88Qxe4ol6y_g</td>\n",
       "      <td>[Active Life, Mini Golf, Golf]</td>\n",
       "      <td>Bethel Park</td>\n",
       "      <td>1530 Hamilton Rd\\nBethel Park, PA 15234</td>\n",
       "      <td>{}</td>\n",
       "      <td>40.354115</td>\n",
       "      <td>-80.014660</td>\n",
       "      <td>Cool Springs Golf Center</td>\n",
       "      <td>[]</td>\n",
       "      <td>...</td>\n",
       "      <td>business</td>\n",
       "      <td>15234</td>\n",
       "      <td>Remove</td>\n",
       "      <td>0 days</td>\n",
       "      <td>00:00:00</td>\n",
       "      <td>00:00:00</td>\n",
       "      <td>00:00:00</td>\n",
       "      <td>00:00:00</td>\n",
       "      <td>00:00:00</td>\n",
       "      <td>0 days</td>\n",
       "    </tr>\n",
       "  </tbody>\n",
       "</table>\n",
       "<p>3 rows × 24 columns</p>\n",
       "</div>"
      ],
      "text/plain": [
       "                                          attributes             business_id  \\\n",
       "0  {'Accepts Credit Cards': True, 'Attire': 'casu...  5UmKMjUEUNdYWqANhGckJw   \n",
       "1  {'Price Range': 1, 'Accepts Credit Cards': Tru...  UsFtqoBl7naz8AVUBZMjQQ   \n",
       "2                            {'Good for Kids': True}  cE27W9VPgO88Qxe4ol6y_g   \n",
       "\n",
       "                       categories         city  \\\n",
       "0        [Fast Food, Restaurants]   Dravosburg   \n",
       "1                     [Nightlife]   Dravosburg   \n",
       "2  [Active Life, Mini Golf, Golf]  Bethel Park   \n",
       "\n",
       "                                   full_address  \\\n",
       "0  4734 Lebanon Church Rd\\nDravosburg, PA 15034   \n",
       "1          202 McClure St\\nDravosburg, PA 15034   \n",
       "2       1530 Hamilton Rd\\nBethel Park, PA 15234   \n",
       "\n",
       "                                               hours   latitude  longitude  \\\n",
       "0  {'Tuesday': {'close': '21:00', 'open': '11:00'...  40.354327 -79.900706   \n",
       "1                                                 {}  40.350553 -79.886814   \n",
       "2                                                 {}  40.354115 -80.014660   \n",
       "\n",
       "                       name neighborhoods    ...         type  zipcode  \\\n",
       "0                 Mr Hoagie            []    ...     business    15034   \n",
       "1              Clancy's Pub            []    ...     business    15034   \n",
       "2  Cool Springs Golf Center            []    ...     business    15234   \n",
       "\n",
       "                                     Restaurant_type Sunday   Monday  Tuesday  \\\n",
       "0  {'Bed & Breakfast': 0, 'Seafood': 0, 'Pool Hal... 0 days 10:00:00 10:00:00   \n",
       "1                                             Remove 0 days 00:00:00 00:00:00   \n",
       "2                                             Remove 0 days 00:00:00 00:00:00   \n",
       "\n",
       "  Wednesday  Thursday   Friday  Saturday  \n",
       "0  10:00:00  10:00:00 10:00:00    0 days  \n",
       "1  00:00:00  00:00:00 00:00:00    0 days  \n",
       "2  00:00:00  00:00:00 00:00:00    0 days  \n",
       "\n",
       "[3 rows x 24 columns]"
      ]
     },
     "execution_count": 18,
     "metadata": {},
     "output_type": "execute_result"
    }
   ],
   "source": [
    "dfB.head(3)"
   ]
  },
  {
   "cell_type": "code",
   "execution_count": null,
   "metadata": {
    "collapsed": true
   },
   "outputs": [],
   "source": []
  },
  {
   "cell_type": "markdown",
   "metadata": {},
   "source": [
    "# Exercise 5: Create a table with the average review for a business."
   ]
  },
  {
   "cell_type": "code",
   "execution_count": 19,
   "metadata": {
    "collapsed": false
   },
   "outputs": [
    {
     "data": {
      "text/html": [
       "<div>\n",
       "<table border=\"1\" class=\"dataframe\">\n",
       "  <thead>\n",
       "    <tr style=\"text-align: right;\">\n",
       "      <th></th>\n",
       "      <th>business_id</th>\n",
       "      <th>date</th>\n",
       "      <th>review_id</th>\n",
       "      <th>stars</th>\n",
       "      <th>text</th>\n",
       "      <th>type</th>\n",
       "      <th>user_id</th>\n",
       "      <th>votes</th>\n",
       "    </tr>\n",
       "  </thead>\n",
       "  <tbody>\n",
       "    <tr>\n",
       "      <th>0</th>\n",
       "      <td>5UmKMjUEUNdYWqANhGckJw</td>\n",
       "      <td>2012-08-01</td>\n",
       "      <td>Ya85v4eqdd6k9Od8HbQjyA</td>\n",
       "      <td>4</td>\n",
       "      <td>Mr Hoagie is an institution. Walking in, it do...</td>\n",
       "      <td>review</td>\n",
       "      <td>PUFPaY9KxDAcGqfsorJp3Q</td>\n",
       "      <td>{'cool': 0, 'funny': 0, 'useful': 0}</td>\n",
       "    </tr>\n",
       "    <tr>\n",
       "      <th>1</th>\n",
       "      <td>5UmKMjUEUNdYWqANhGckJw</td>\n",
       "      <td>2014-02-13</td>\n",
       "      <td>KPvLNJ21_4wbYNctrOwWdQ</td>\n",
       "      <td>5</td>\n",
       "      <td>Excellent food. Superb customer service. I mis...</td>\n",
       "      <td>review</td>\n",
       "      <td>Iu6AxdBYGR4A0wspR9BYHA</td>\n",
       "      <td>{'cool': 0, 'funny': 0, 'useful': 0}</td>\n",
       "    </tr>\n",
       "    <tr>\n",
       "      <th>2</th>\n",
       "      <td>5UmKMjUEUNdYWqANhGckJw</td>\n",
       "      <td>2015-10-31</td>\n",
       "      <td>fFSoGV46Yxuwbr3fHNuZig</td>\n",
       "      <td>5</td>\n",
       "      <td>Yes this place is a little out dated and not o...</td>\n",
       "      <td>review</td>\n",
       "      <td>auESFwWvW42h6alXgFxAXQ</td>\n",
       "      <td>{'cool': 0, 'funny': 1, 'useful': 1}</td>\n",
       "    </tr>\n",
       "  </tbody>\n",
       "</table>\n",
       "</div>"
      ],
      "text/plain": [
       "              business_id        date               review_id  stars  \\\n",
       "0  5UmKMjUEUNdYWqANhGckJw  2012-08-01  Ya85v4eqdd6k9Od8HbQjyA      4   \n",
       "1  5UmKMjUEUNdYWqANhGckJw  2014-02-13  KPvLNJ21_4wbYNctrOwWdQ      5   \n",
       "2  5UmKMjUEUNdYWqANhGckJw  2015-10-31  fFSoGV46Yxuwbr3fHNuZig      5   \n",
       "\n",
       "                                                text    type  \\\n",
       "0  Mr Hoagie is an institution. Walking in, it do...  review   \n",
       "1  Excellent food. Superb customer service. I mis...  review   \n",
       "2  Yes this place is a little out dated and not o...  review   \n",
       "\n",
       "                  user_id                                 votes  \n",
       "0  PUFPaY9KxDAcGqfsorJp3Q  {'cool': 0, 'funny': 0, 'useful': 0}  \n",
       "1  Iu6AxdBYGR4A0wspR9BYHA  {'cool': 0, 'funny': 0, 'useful': 0}  \n",
       "2  auESFwWvW42h6alXgFxAXQ  {'cool': 0, 'funny': 1, 'useful': 1}  "
      ]
     },
     "execution_count": 19,
     "metadata": {},
     "output_type": "execute_result"
    }
   ],
   "source": [
    "# Lets open the 'review' dataset.\n",
    "dataR = []\n",
    "with open('yelp_dataset_challenge_academic_dataset/yelp_academic_dataset_review.json') as f:\n",
    "    for line in f:\n",
    "        dataR.append(simplejson.loads(line))\n",
    "dfR = pd.DataFrame(dataR[:5000])\n",
    "dfR.head(3)"
   ]
  },
  {
   "cell_type": "code",
   "execution_count": 20,
   "metadata": {
    "collapsed": false
   },
   "outputs": [],
   "source": [
    "# Lets create a table for the average and then join it to our existing table\n",
    "avgR = dfR.groupby('business_id')['stars'].mean().reset_index()\n",
    "avgR.columns = ['business_id', 'star_avg']"
   ]
  },
  {
   "cell_type": "code",
   "execution_count": 21,
   "metadata": {
    "collapsed": false
   },
   "outputs": [
    {
     "data": {
      "text/html": [
       "<div>\n",
       "<table border=\"1\" class=\"dataframe\">\n",
       "  <thead>\n",
       "    <tr style=\"text-align: right;\">\n",
       "      <th></th>\n",
       "      <th>business_id</th>\n",
       "      <th>star_avg</th>\n",
       "    </tr>\n",
       "  </thead>\n",
       "  <tbody>\n",
       "    <tr>\n",
       "      <th>0</th>\n",
       "      <td>-Gfj1gA0Ir07zToO-4fBpw</td>\n",
       "      <td>4.772727</td>\n",
       "    </tr>\n",
       "    <tr>\n",
       "      <th>1</th>\n",
       "      <td>-iVcmhjfq79QoTWzrb6pKg</td>\n",
       "      <td>4.263889</td>\n",
       "    </tr>\n",
       "    <tr>\n",
       "      <th>2</th>\n",
       "      <td>-nO_qj9eP-os3baYyh8eNA</td>\n",
       "      <td>4.200000</td>\n",
       "    </tr>\n",
       "  </tbody>\n",
       "</table>\n",
       "</div>"
      ],
      "text/plain": [
       "              business_id  star_avg\n",
       "0  -Gfj1gA0Ir07zToO-4fBpw  4.772727\n",
       "1  -iVcmhjfq79QoTWzrb6pKg  4.263889\n",
       "2  -nO_qj9eP-os3baYyh8eNA  4.200000"
      ]
     },
     "execution_count": 21,
     "metadata": {},
     "output_type": "execute_result"
    }
   ],
   "source": [
    "avgR.head(3)"
   ]
  },
  {
   "cell_type": "code",
   "execution_count": 22,
   "metadata": {
    "collapsed": false
   },
   "outputs": [
    {
     "data": {
      "text/html": [
       "<div>\n",
       "<table border=\"1\" class=\"dataframe\">\n",
       "  <thead>\n",
       "    <tr style=\"text-align: right;\">\n",
       "      <th></th>\n",
       "      <th>business_id</th>\n",
       "      <th>date</th>\n",
       "      <th>review_id</th>\n",
       "      <th>stars</th>\n",
       "      <th>text</th>\n",
       "      <th>type</th>\n",
       "      <th>user_id</th>\n",
       "      <th>votes</th>\n",
       "      <th>star_avg</th>\n",
       "    </tr>\n",
       "  </thead>\n",
       "  <tbody>\n",
       "    <tr>\n",
       "      <th>0</th>\n",
       "      <td>5UmKMjUEUNdYWqANhGckJw</td>\n",
       "      <td>2012-08-01</td>\n",
       "      <td>Ya85v4eqdd6k9Od8HbQjyA</td>\n",
       "      <td>4</td>\n",
       "      <td>Mr Hoagie is an institution. Walking in, it do...</td>\n",
       "      <td>review</td>\n",
       "      <td>PUFPaY9KxDAcGqfsorJp3Q</td>\n",
       "      <td>{'cool': 0, 'funny': 0, 'useful': 0}</td>\n",
       "      <td>3.428571</td>\n",
       "    </tr>\n",
       "    <tr>\n",
       "      <th>1</th>\n",
       "      <td>5UmKMjUEUNdYWqANhGckJw</td>\n",
       "      <td>2014-02-13</td>\n",
       "      <td>KPvLNJ21_4wbYNctrOwWdQ</td>\n",
       "      <td>5</td>\n",
       "      <td>Excellent food. Superb customer service. I mis...</td>\n",
       "      <td>review</td>\n",
       "      <td>Iu6AxdBYGR4A0wspR9BYHA</td>\n",
       "      <td>{'cool': 0, 'funny': 0, 'useful': 0}</td>\n",
       "      <td>3.428571</td>\n",
       "    </tr>\n",
       "    <tr>\n",
       "      <th>2</th>\n",
       "      <td>5UmKMjUEUNdYWqANhGckJw</td>\n",
       "      <td>2015-10-31</td>\n",
       "      <td>fFSoGV46Yxuwbr3fHNuZig</td>\n",
       "      <td>5</td>\n",
       "      <td>Yes this place is a little out dated and not o...</td>\n",
       "      <td>review</td>\n",
       "      <td>auESFwWvW42h6alXgFxAXQ</td>\n",
       "      <td>{'cool': 0, 'funny': 1, 'useful': 1}</td>\n",
       "      <td>3.428571</td>\n",
       "    </tr>\n",
       "  </tbody>\n",
       "</table>\n",
       "</div>"
      ],
      "text/plain": [
       "              business_id        date               review_id  stars  \\\n",
       "0  5UmKMjUEUNdYWqANhGckJw  2012-08-01  Ya85v4eqdd6k9Od8HbQjyA      4   \n",
       "1  5UmKMjUEUNdYWqANhGckJw  2014-02-13  KPvLNJ21_4wbYNctrOwWdQ      5   \n",
       "2  5UmKMjUEUNdYWqANhGckJw  2015-10-31  fFSoGV46Yxuwbr3fHNuZig      5   \n",
       "\n",
       "                                                text    type  \\\n",
       "0  Mr Hoagie is an institution. Walking in, it do...  review   \n",
       "1  Excellent food. Superb customer service. I mis...  review   \n",
       "2  Yes this place is a little out dated and not o...  review   \n",
       "\n",
       "                  user_id                                 votes  star_avg  \n",
       "0  PUFPaY9KxDAcGqfsorJp3Q  {'cool': 0, 'funny': 0, 'useful': 0}  3.428571  \n",
       "1  Iu6AxdBYGR4A0wspR9BYHA  {'cool': 0, 'funny': 0, 'useful': 0}  3.428571  \n",
       "2  auESFwWvW42h6alXgFxAXQ  {'cool': 0, 'funny': 1, 'useful': 1}  3.428571  "
      ]
     },
     "execution_count": 22,
     "metadata": {},
     "output_type": "execute_result"
    }
   ],
   "source": [
    "dfR = dfR.merge(avgR, how='left', on='business_id')\n",
    "dfR.head(3)"
   ]
  },
  {
   "cell_type": "markdown",
   "metadata": {},
   "source": [
    "# Exercise 6: Create a new table that only contains restaurants with the following schema:\n",
    "## Business_Name | Restaurant_type | Friday hours | Saturday hours | Attributes | Zipcode | Average Rating"
   ]
  },
  {
   "cell_type": "code",
   "execution_count": 23,
   "metadata": {
    "collapsed": false
   },
   "outputs": [
    {
     "data": {
      "text/html": [
       "<div>\n",
       "<table border=\"1\" class=\"dataframe\">\n",
       "  <thead>\n",
       "    <tr style=\"text-align: right;\">\n",
       "      <th></th>\n",
       "      <th>business_id</th>\n",
       "      <th>date</th>\n",
       "      <th>review_id</th>\n",
       "      <th>stars_x</th>\n",
       "      <th>text</th>\n",
       "      <th>type_x</th>\n",
       "      <th>user_id</th>\n",
       "      <th>votes</th>\n",
       "      <th>star_avg</th>\n",
       "      <th>attributes</th>\n",
       "      <th>...</th>\n",
       "      <th>type_y</th>\n",
       "      <th>zipcode</th>\n",
       "      <th>Restaurant_type</th>\n",
       "      <th>Sunday</th>\n",
       "      <th>Monday</th>\n",
       "      <th>Tuesday</th>\n",
       "      <th>Wednesday</th>\n",
       "      <th>Thursday</th>\n",
       "      <th>Friday</th>\n",
       "      <th>Saturday</th>\n",
       "    </tr>\n",
       "  </thead>\n",
       "  <tbody>\n",
       "    <tr>\n",
       "      <th>0</th>\n",
       "      <td>5UmKMjUEUNdYWqANhGckJw</td>\n",
       "      <td>2012-08-01</td>\n",
       "      <td>Ya85v4eqdd6k9Od8HbQjyA</td>\n",
       "      <td>4</td>\n",
       "      <td>Mr Hoagie is an institution. Walking in, it do...</td>\n",
       "      <td>review</td>\n",
       "      <td>PUFPaY9KxDAcGqfsorJp3Q</td>\n",
       "      <td>{'cool': 0, 'funny': 0, 'useful': 0}</td>\n",
       "      <td>3.428571</td>\n",
       "      <td>{'Accepts Credit Cards': True, 'Attire': 'casu...</td>\n",
       "      <td>...</td>\n",
       "      <td>business</td>\n",
       "      <td>15034</td>\n",
       "      <td>{'Bed &amp; Breakfast': 0, 'Seafood': 0, 'Pool Hal...</td>\n",
       "      <td>0 days</td>\n",
       "      <td>10:00:00</td>\n",
       "      <td>10:00:00</td>\n",
       "      <td>10:00:00</td>\n",
       "      <td>10:00:00</td>\n",
       "      <td>10:00:00</td>\n",
       "      <td>0 days</td>\n",
       "    </tr>\n",
       "    <tr>\n",
       "      <th>1</th>\n",
       "      <td>5UmKMjUEUNdYWqANhGckJw</td>\n",
       "      <td>2014-02-13</td>\n",
       "      <td>KPvLNJ21_4wbYNctrOwWdQ</td>\n",
       "      <td>5</td>\n",
       "      <td>Excellent food. Superb customer service. I mis...</td>\n",
       "      <td>review</td>\n",
       "      <td>Iu6AxdBYGR4A0wspR9BYHA</td>\n",
       "      <td>{'cool': 0, 'funny': 0, 'useful': 0}</td>\n",
       "      <td>3.428571</td>\n",
       "      <td>{'Accepts Credit Cards': True, 'Attire': 'casu...</td>\n",
       "      <td>...</td>\n",
       "      <td>business</td>\n",
       "      <td>15034</td>\n",
       "      <td>{'Bed &amp; Breakfast': 0, 'Seafood': 0, 'Pool Hal...</td>\n",
       "      <td>0 days</td>\n",
       "      <td>10:00:00</td>\n",
       "      <td>10:00:00</td>\n",
       "      <td>10:00:00</td>\n",
       "      <td>10:00:00</td>\n",
       "      <td>10:00:00</td>\n",
       "      <td>0 days</td>\n",
       "    </tr>\n",
       "    <tr>\n",
       "      <th>2</th>\n",
       "      <td>5UmKMjUEUNdYWqANhGckJw</td>\n",
       "      <td>2015-10-31</td>\n",
       "      <td>fFSoGV46Yxuwbr3fHNuZig</td>\n",
       "      <td>5</td>\n",
       "      <td>Yes this place is a little out dated and not o...</td>\n",
       "      <td>review</td>\n",
       "      <td>auESFwWvW42h6alXgFxAXQ</td>\n",
       "      <td>{'cool': 0, 'funny': 1, 'useful': 1}</td>\n",
       "      <td>3.428571</td>\n",
       "      <td>{'Accepts Credit Cards': True, 'Attire': 'casu...</td>\n",
       "      <td>...</td>\n",
       "      <td>business</td>\n",
       "      <td>15034</td>\n",
       "      <td>{'Bed &amp; Breakfast': 0, 'Seafood': 0, 'Pool Hal...</td>\n",
       "      <td>0 days</td>\n",
       "      <td>10:00:00</td>\n",
       "      <td>10:00:00</td>\n",
       "      <td>10:00:00</td>\n",
       "      <td>10:00:00</td>\n",
       "      <td>10:00:00</td>\n",
       "      <td>0 days</td>\n",
       "    </tr>\n",
       "  </tbody>\n",
       "</table>\n",
       "<p>3 rows × 32 columns</p>\n",
       "</div>"
      ],
      "text/plain": [
       "              business_id        date               review_id  stars_x  \\\n",
       "0  5UmKMjUEUNdYWqANhGckJw  2012-08-01  Ya85v4eqdd6k9Od8HbQjyA        4   \n",
       "1  5UmKMjUEUNdYWqANhGckJw  2014-02-13  KPvLNJ21_4wbYNctrOwWdQ        5   \n",
       "2  5UmKMjUEUNdYWqANhGckJw  2015-10-31  fFSoGV46Yxuwbr3fHNuZig        5   \n",
       "\n",
       "                                                text  type_x  \\\n",
       "0  Mr Hoagie is an institution. Walking in, it do...  review   \n",
       "1  Excellent food. Superb customer service. I mis...  review   \n",
       "2  Yes this place is a little out dated and not o...  review   \n",
       "\n",
       "                  user_id                                 votes  star_avg  \\\n",
       "0  PUFPaY9KxDAcGqfsorJp3Q  {'cool': 0, 'funny': 0, 'useful': 0}  3.428571   \n",
       "1  Iu6AxdBYGR4A0wspR9BYHA  {'cool': 0, 'funny': 0, 'useful': 0}  3.428571   \n",
       "2  auESFwWvW42h6alXgFxAXQ  {'cool': 0, 'funny': 1, 'useful': 1}  3.428571   \n",
       "\n",
       "                                          attributes    ...       type_y  \\\n",
       "0  {'Accepts Credit Cards': True, 'Attire': 'casu...    ...     business   \n",
       "1  {'Accepts Credit Cards': True, 'Attire': 'casu...    ...     business   \n",
       "2  {'Accepts Credit Cards': True, 'Attire': 'casu...    ...     business   \n",
       "\n",
       "  zipcode                                    Restaurant_type Sunday   Monday  \\\n",
       "0   15034  {'Bed & Breakfast': 0, 'Seafood': 0, 'Pool Hal... 0 days 10:00:00   \n",
       "1   15034  {'Bed & Breakfast': 0, 'Seafood': 0, 'Pool Hal... 0 days 10:00:00   \n",
       "2   15034  {'Bed & Breakfast': 0, 'Seafood': 0, 'Pool Hal... 0 days 10:00:00   \n",
       "\n",
       "   Tuesday Wednesday Thursday   Friday  Saturday  \n",
       "0 10:00:00  10:00:00 10:00:00 10:00:00    0 days  \n",
       "1 10:00:00  10:00:00 10:00:00 10:00:00    0 days  \n",
       "2 10:00:00  10:00:00 10:00:00 10:00:00    0 days  \n",
       "\n",
       "[3 rows x 32 columns]"
      ]
     },
     "execution_count": 23,
     "metadata": {},
     "output_type": "execute_result"
    }
   ],
   "source": [
    "# Lets join the tables\n",
    "dfAll = dfR.merge(dfB, how='left', on='business_id')\n",
    "dfAll.head(3)"
   ]
  },
  {
   "cell_type": "markdown",
   "metadata": {},
   "source": [
    "## Lets remove all the businesses that are not restaurants."
   ]
  },
  {
   "cell_type": "code",
   "execution_count": 25,
   "metadata": {
    "collapsed": false
   },
   "outputs": [],
   "source": [
    "dfAll = dfAll[dfAll['Restaurant_type'] != 'Remove']"
   ]
  },
  {
   "cell_type": "code",
   "execution_count": 28,
   "metadata": {
    "collapsed": false
   },
   "outputs": [],
   "source": [
    "dfAll = dfAll[['name', 'Restaurant_type', 'Friday', \n",
    "               'Saturday', 'attributes', 'zipcode', \n",
    "               'star_avg']]"
   ]
  },
  {
   "cell_type": "code",
   "execution_count": 29,
   "metadata": {
    "collapsed": false
   },
   "outputs": [
    {
     "data": {
      "text/html": [
       "<div>\n",
       "<table border=\"1\" class=\"dataframe\">\n",
       "  <thead>\n",
       "    <tr style=\"text-align: right;\">\n",
       "      <th></th>\n",
       "      <th>name</th>\n",
       "      <th>Restaurant_type</th>\n",
       "      <th>Friday</th>\n",
       "      <th>Saturday</th>\n",
       "      <th>attributes</th>\n",
       "      <th>zipcode</th>\n",
       "      <th>star_avg</th>\n",
       "    </tr>\n",
       "  </thead>\n",
       "  <tbody>\n",
       "    <tr>\n",
       "      <th>0</th>\n",
       "      <td>Mr Hoagie</td>\n",
       "      <td>{'Bed &amp; Breakfast': 0, 'Seafood': 0, 'Pool Hal...</td>\n",
       "      <td>10:00:00</td>\n",
       "      <td>0 days</td>\n",
       "      <td>{'Accepts Credit Cards': True, 'Attire': 'casu...</td>\n",
       "      <td>15034</td>\n",
       "      <td>3.428571</td>\n",
       "    </tr>\n",
       "    <tr>\n",
       "      <th>1</th>\n",
       "      <td>Mr Hoagie</td>\n",
       "      <td>{'Bed &amp; Breakfast': 0, 'Seafood': 0, 'Pool Hal...</td>\n",
       "      <td>10:00:00</td>\n",
       "      <td>0 days</td>\n",
       "      <td>{'Accepts Credit Cards': True, 'Attire': 'casu...</td>\n",
       "      <td>15034</td>\n",
       "      <td>3.428571</td>\n",
       "    </tr>\n",
       "    <tr>\n",
       "      <th>2</th>\n",
       "      <td>Mr Hoagie</td>\n",
       "      <td>{'Bed &amp; Breakfast': 0, 'Seafood': 0, 'Pool Hal...</td>\n",
       "      <td>10:00:00</td>\n",
       "      <td>0 days</td>\n",
       "      <td>{'Accepts Credit Cards': True, 'Attire': 'casu...</td>\n",
       "      <td>15034</td>\n",
       "      <td>3.428571</td>\n",
       "    </tr>\n",
       "  </tbody>\n",
       "</table>\n",
       "</div>"
      ],
      "text/plain": [
       "        name                                    Restaurant_type   Friday  \\\n",
       "0  Mr Hoagie  {'Bed & Breakfast': 0, 'Seafood': 0, 'Pool Hal... 10:00:00   \n",
       "1  Mr Hoagie  {'Bed & Breakfast': 0, 'Seafood': 0, 'Pool Hal... 10:00:00   \n",
       "2  Mr Hoagie  {'Bed & Breakfast': 0, 'Seafood': 0, 'Pool Hal... 10:00:00   \n",
       "\n",
       "   Saturday                                         attributes zipcode  \\\n",
       "0    0 days  {'Accepts Credit Cards': True, 'Attire': 'casu...   15034   \n",
       "1    0 days  {'Accepts Credit Cards': True, 'Attire': 'casu...   15034   \n",
       "2    0 days  {'Accepts Credit Cards': True, 'Attire': 'casu...   15034   \n",
       "\n",
       "   star_avg  \n",
       "0  3.428571  \n",
       "1  3.428571  \n",
       "2  3.428571  "
      ]
     },
     "execution_count": 29,
     "metadata": {},
     "output_type": "execute_result"
    }
   ],
   "source": [
    "dfAll.head(3)"
   ]
  },
  {
   "cell_type": "code",
   "execution_count": null,
   "metadata": {
    "collapsed": true
   },
   "outputs": [],
   "source": []
  }
 ],
 "metadata": {
  "kernelspec": {
   "display_name": "Python 3",
   "language": "python",
   "name": "python3"
  },
  "language_info": {
   "codemirror_mode": {
    "name": "ipython",
    "version": 3
   },
   "file_extension": ".py",
   "mimetype": "text/x-python",
   "name": "python",
   "nbconvert_exporter": "python",
   "pygments_lexer": "ipython3",
   "version": "3.4.1"
  }
 },
 "nbformat": 4,
 "nbformat_minor": 0
}
